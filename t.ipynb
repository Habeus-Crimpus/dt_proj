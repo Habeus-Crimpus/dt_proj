{
 "cells": [
  {
   "cell_type": "code",
   "execution_count": 2,
   "metadata": {},
   "outputs": [
    {
     "name": "stdout",
     "output_type": "stream",
     "text": [
      "The autoreload extension is already loaded. To reload it, use:\n",
      "  %reload_ext autoreload\n"
     ]
    }
   ],
   "source": [
    "%load_ext autoreload\n",
    "%autoreload 2\n",
    "\n",
    "# team-made files\n",
    "from darktriad.ml_logic.preprocess import preprocess\n",
    "from darktriad.ml_logic.Feat_engine import feature_engineering\n",
    "from darktriad.ml_logic.train_test import train_test\n",
    "from darktriad.ml_logic.model import model\n",
    "from darktriad.ml_logic.performance_eval import eval_model, pred"
   ]
  },
  {
   "cell_type": "code",
   "execution_count": 6,
   "metadata": {},
   "outputs": [],
   "source": [
    "# data manipulation\n",
    "import pandas as pd\n",
    "import numpy as np\n",
    "\n",
    "# visualization\n",
    "import seaborn as sns\n",
    "import matplotlib.pyplot as plt\n",
    "\n",
    "# machine learning\n",
    "from sklearn.preprocessing import StandardScaler, OneHotEncoder\n",
    "from sklearn.model_selection import train_test_split, GridSearchCV, cross_validate\n",
    "from sklearn.linear_model import LogisticRegression, RidgeClassifier\n",
    "from sklearn.neighbors import KNeighborsClassifier, NearestCentroid\n",
    "from xgboost import XGBClassifier\n",
    "from sklearn.ensemble import RandomForestClassifier\n",
    "from sklearn.pipeline import Pipeline\n",
    "from sklearn.naive_bayes import CategoricalNB\n",
    "from sklearn.mixture import GaussianMixture\n",
    "from sklearn.metrics import accuracy_score\n",
    "\n",
    "from joblib import dump, load"
   ]
  },
  {
   "cell_type": "code",
   "execution_count": 5,
   "metadata": {},
   "outputs": [],
   "source": [
    "df = pd.read_csv(\"/Users/zemblanity/portfolio_projects/Dark_Triad/dark_triad/Data/SD3/data.csv\",delimiter = '\\t')\n",
    "df = preprocess(df)\n",
    "df = feature_engineering(df)\n",
    "train_test_Dict = train_test(df)"
   ]
  },
  {
   "cell_type": "code",
   "execution_count": 8,
   "metadata": {},
   "outputs": [],
   "source": [
    "models = model(train_test_Dict)"
   ]
  },
  {
   "cell_type": "code",
   "execution_count": 9,
   "metadata": {},
   "outputs": [
    {
     "data": {
      "text/plain": [
       "['trained_models.joblib']"
      ]
     },
     "execution_count": 9,
     "metadata": {},
     "output_type": "execute_result"
    }
   ],
   "source": [
    "dump(models, 'trained_models.joblib')"
   ]
  },
  {
   "cell_type": "code",
   "execution_count": 10,
   "metadata": {},
   "outputs": [
    {
     "data": {
      "text/plain": [
       "{'Psychopathy_Model': GridSearchCV(cv=5, estimator=LGBMClassifier(random_state=84), n_jobs=-1,\n",
       "              param_grid={'colsample_bytree': [0.7, 0.9],\n",
       "                          'learning_rate': [0.1, 0.01, 0.01],\n",
       "                          'max_depth': [4, 6, 10],\n",
       "                          'min_child_samples': [1, 5, 8],\n",
       "                          'n_estimators': [50, 100, 150],\n",
       "                          'subsample': [0.6, 0.7, 0.9]},\n",
       "              scoring='accuracy'),\n",
       " 'Narcissism_Model': GridSearchCV(cv=5, estimator=LGBMClassifier(random_state=84), n_jobs=-1,\n",
       "              param_grid={'colsample_bytree': [0.6, 0.7, 0.9],\n",
       "                          'learning_rate': [0.1, 0.01, 0.001],\n",
       "                          'max_depth': [4, 6, 20], 'min_child_samples': [1, 5],\n",
       "                          'n_estimators': [50, 100, 150, 200],\n",
       "                          'subsample': [0.5, 0.7, 0.9]},\n",
       "              scoring='accuracy'),\n",
       " 'Machiavellianism_Model': GridSearchCV(cv=5, estimator=LGBMClassifier(random_state=84), n_jobs=-1,\n",
       "              param_grid={'colsample_bytree': [0.6, 0.7, 0.9],\n",
       "                          'learning_rate': [1, 0.1, 0.01],\n",
       "                          'max_depth': [2, 4, 6, 10],\n",
       "                          'min_child_samples': [1, 5, 6, 7],\n",
       "                          'n_estimators': [40, 50, 100],\n",
       "                          'subsample': [0.6, 0.7, 0.9]},\n",
       "              scoring='accuracy'),\n",
       " 'test_sets': [       M1  M2  M3  M4  M5  M6  M7  M8  ...  N3  N4  N5  N6  N7  N8  N9  US_resident\n",
       "  4114    5   4   4   5   4   5   5   5  ...   4   3   4   2   4   2   3            0\n",
       "  11112   2   4   2   4   1   1   5   3  ...   1   4   5   3   1   2   3            1\n",
       "  6284    5   5   5   4   5   3   5   2  ...   4   5   5   4   4   1   4            0\n",
       "  9046    3   2   5   2   1   2   3   3  ...   1   2   3   3   2   4   2            1\n",
       "  2099    3   1   2   1   1   1   4   3  ...   1   1   3   3   3   1   2            1\n",
       "  ...    ..  ..  ..  ..  ..  ..  ..  ..  ...  ..  ..  ..  ..  ..  ..  ..          ...\n",
       "  10170   5   1   3   5   4   4   2   4  ...   1   4   5   4   1   3   2            1\n",
       "  1472    5   4   4   2   3   4   4   2  ...   4   2   4   5   5   1   2            1\n",
       "  13979   4   3   2   4   2   3   5   3  ...   2   1   2   5   1   4   2            0\n",
       "  18165   4   4   2   4   5   5   4   3  ...   3   3   4   1   3   3   5            1\n",
       "  218     2   2   2   4   3   1   4   3  ...   1   2   3   4   2   3   2            0\n",
       "  \n",
       "  [5451 rows x 19 columns],\n",
       "         M1  M2  M3  M4  M5  M6  M7  M8  ...  P3  P4  P5  P6  P7  P8  P9  US_resident\n",
       "  4114    5   4   4   5   4   5   5   5  ...   4   3   5   4   4   3   4            0\n",
       "  11112   2   4   2   4   1   1   5   3  ...   1   1   4   1   5   1   1            1\n",
       "  6284    5   5   5   4   5   3   5   2  ...   3   5   5   5   3   5   4            0\n",
       "  9046    3   2   5   2   1   2   3   3  ...   3   1   4   2   4   2   2            1\n",
       "  2099    3   1   2   1   1   1   4   3  ...   1   1   3   1   5   2   1            1\n",
       "  ...    ..  ..  ..  ..  ..  ..  ..  ..  ...  ..  ..  ..  ..  ..  ..  ..          ...\n",
       "  10170   5   1   3   5   4   4   2   4  ...   1   1   4   4   5   1   1            1\n",
       "  1472    5   4   4   2   3   4   4   2  ...   2   2   5   3   5   1   3            1\n",
       "  13979   4   3   2   4   2   3   5   3  ...   1   3   3   3   5   3   2            0\n",
       "  18165   4   4   2   4   5   5   4   3  ...   4   3   4   5   5   4   5            1\n",
       "  218     2   2   2   4   3   1   4   3  ...   2   3   3   2   2   3   1            0\n",
       "  \n",
       "  [5451 rows x 19 columns],\n",
       "         N1  N2  N3  N4  N5  N6  N7  N8  ...  P3  P4  P5  P6  P7  P8  P9  US_resident\n",
       "  4114    3   3   4   3   4   2   4   2  ...   4   3   5   4   4   3   4            0\n",
       "  11112   4   2   1   4   5   3   1   2  ...   1   1   4   1   5   1   1            1\n",
       "  6284    3   1   4   5   5   4   4   1  ...   3   5   5   5   3   5   4            0\n",
       "  9046    2   4   1   2   3   3   2   4  ...   3   1   4   2   4   2   2            1\n",
       "  2099    2   3   1   1   3   3   3   1  ...   1   1   3   1   5   2   1            1\n",
       "  ...    ..  ..  ..  ..  ..  ..  ..  ..  ...  ..  ..  ..  ..  ..  ..  ..          ...\n",
       "  10170   2   3   1   4   5   4   1   3  ...   1   1   4   4   5   1   1            1\n",
       "  1472    3   5   4   2   4   5   5   1  ...   2   2   5   3   5   1   3            1\n",
       "  13979   4   5   2   1   2   5   1   4  ...   1   3   3   3   5   3   2            0\n",
       "  18165   4   3   3   3   4   1   3   3  ...   4   3   4   5   5   4   5            1\n",
       "  218     1   4   1   2   3   4   2   3  ...   2   3   3   2   2   3   1            0\n",
       "  \n",
       "  [5451 rows x 19 columns],\n",
       "  4114     0\n",
       "  11112    0\n",
       "  6284     0\n",
       "  9046     0\n",
       "  2099     0\n",
       "          ..\n",
       "  10170    0\n",
       "  1472     0\n",
       "  13979    0\n",
       "  18165    1\n",
       "  218      0\n",
       "  Name: Psychopathy_Category, Length: 5451, dtype: int64,\n",
       "  4114     0\n",
       "  11112    0\n",
       "  6284     0\n",
       "  9046     0\n",
       "  2099    -1\n",
       "          ..\n",
       "  10170    0\n",
       "  1472     0\n",
       "  13979    0\n",
       "  18165    0\n",
       "  218      0\n",
       "  Name: Narcissism_Category, Length: 5451, dtype: int64,\n",
       "  4114     0\n",
       "  11112    0\n",
       "  6284     0\n",
       "  9046     0\n",
       "  2099    -1\n",
       "          ..\n",
       "  10170    0\n",
       "  1472     0\n",
       "  13979    0\n",
       "  18165    0\n",
       "  218      0\n",
       "  Name: Machiavellianism_Category, Length: 5451, dtype: int64]}"
      ]
     },
     "execution_count": 10,
     "metadata": {},
     "output_type": "execute_result"
    }
   ],
   "source": [
    "load('trained_models.joblib')"
   ]
  },
  {
   "cell_type": "code",
   "execution_count": null,
   "metadata": {},
   "outputs": [],
   "source": []
  }
 ],
 "metadata": {
  "kernelspec": {
   "display_name": "dark-triad-env",
   "language": "python",
   "name": "python3"
  },
  "language_info": {
   "codemirror_mode": {
    "name": "ipython",
    "version": 3
   },
   "file_extension": ".py",
   "mimetype": "text/x-python",
   "name": "python",
   "nbconvert_exporter": "python",
   "pygments_lexer": "ipython3",
   "version": "3.10.6"
  },
  "orig_nbformat": 4
 },
 "nbformat": 4,
 "nbformat_minor": 2
}
